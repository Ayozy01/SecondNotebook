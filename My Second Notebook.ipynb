{
 "cells": [
  {
   "cell_type": "code",
   "execution_count": 21,
   "id": "9f41f5ee",
   "metadata": {},
   "outputs": [
    {
     "ename": "SyntaxError",
     "evalue": "invalid syntax (3442027787.py, line 11)",
     "output_type": "error",
     "traceback": [
      "\u001b[1;36m  Cell \u001b[1;32mIn[21], line 11\u001b[1;36m\u001b[0m\n\u001b[1;33m    price < 50000:\u001b[0m\n\u001b[1;37m                 ^\u001b[0m\n\u001b[1;31mSyntaxError\u001b[0m\u001b[1;31m:\u001b[0m invalid syntax\n"
     ]
    }
   ],
   "source": [
    "# python code that takes the price of a productas input and \n",
    "#calculates and prints the discounted price based on the given conditions\n",
    "price = 100000\n",
    "if price >= 100000:\n",
    "    discount = (price*0.2)\n",
    "    print(price-discount)\n",
    "elif price >= 50000 and price <=99000:\n",
    "    discount = (price*0.1)\n",
    "    print(price-discount)\n",
    "else:\n",
    "    price < 50000:\n",
    "    discount = (price*0.05)\n",
    "    print(price-discount)\n",
    "\n",
    "    \n"
   ]
  },
  {
   "cell_type": "code",
   "execution_count": 22,
   "id": "a7ae0d47",
   "metadata": {},
   "outputs": [],
   "source": [
    "my_list = [1,2,3,4]"
   ]
  },
  {
   "cell_type": "code",
   "execution_count": 23,
   "id": "80f337c8",
   "metadata": {},
   "outputs": [],
   "source": [
    "# created list methods for my class\n",
    "wdc_students = [\"Prisca\",\"Lilian\",\"Chef\",\"Emmanuel\",\"Lawrence\",\"Josh\"]"
   ]
  },
  {
   "cell_type": "code",
   "execution_count": 25,
   "id": "33531ec3",
   "metadata": {},
   "outputs": [
    {
     "name": "stdout",
     "output_type": "stream",
     "text": [
      "Emmanuel\n"
     ]
    }
   ],
   "source": [
    "# print the item in index\n",
    "print(wdc_students[3])"
   ]
  },
  {
   "cell_type": "code",
   "execution_count": 35,
   "id": "7ac9fd86",
   "metadata": {},
   "outputs": [],
   "source": [
    "# append add item to my list\n",
    "wdc_students.append(\"instructor\")"
   ]
  },
  {
   "cell_type": "code",
   "execution_count": 36,
   "id": "e8ef5dac",
   "metadata": {},
   "outputs": [
    {
     "data": {
      "text/plain": [
       "['Prisca', 'Lilian', 'Chef', 'Emmanuel', 'Lawrence', 'Josh', 'instructor']"
      ]
     },
     "execution_count": 36,
     "metadata": {},
     "output_type": "execute_result"
    }
   ],
   "source": [
    "wdc_students"
   ]
  },
  {
   "cell_type": "code",
   "execution_count": 33,
   "id": "05cbab67",
   "metadata": {},
   "outputs": [
    {
     "data": {
      "text/plain": [
       "'instructor'"
      ]
     },
     "execution_count": 33,
     "metadata": {},
     "output_type": "execute_result"
    }
   ],
   "source": [
    "# pop methods remove the last items on my list\n",
    "wdc_students.pop()"
   ]
  },
  {
   "cell_type": "code",
   "execution_count": 38,
   "id": "ce2fba7d",
   "metadata": {},
   "outputs": [],
   "source": [
    "#extend methods add multiples items to my list\n",
    "wdc_students.extend([\"Levi\",\"Temilade\",\"Ekene\",\"Femi\",\"Gloria\"])"
   ]
  },
  {
   "cell_type": "code",
   "execution_count": null,
   "id": "1574a9fc",
   "metadata": {},
   "outputs": [],
   "source": []
  }
 ],
 "metadata": {
  "kernelspec": {
   "display_name": "Python 3 (ipykernel)",
   "language": "python",
   "name": "python3"
  },
  "language_info": {
   "codemirror_mode": {
    "name": "ipython",
    "version": 3
   },
   "file_extension": ".py",
   "mimetype": "text/x-python",
   "name": "python",
   "nbconvert_exporter": "python",
   "pygments_lexer": "ipython3",
   "version": "3.11.3"
  }
 },
 "nbformat": 4,
 "nbformat_minor": 5
}
